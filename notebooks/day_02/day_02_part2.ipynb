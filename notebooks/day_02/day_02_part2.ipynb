{
 "cells": [
  {
   "cell_type": "markdown",
   "metadata": {},
   "source": [
    "## Great, now that we discussed a little let's continue"
   ]
  },
  {
   "cell_type": "markdown",
   "metadata": {},
   "source": [
    "Given that the current approach utilized by the authors lacks reproducibility, we will explore an alternative method by leveraging nf-core pipelines for data analysis.\n",
    "\n",
    "Please explain, how we will achieve reproducibility for the course  with this approach.\n"
   ]
  },
  {
   "cell_type": "markdown",
   "metadata": {},
   "source": [
    "By leveraging nf-core pipelines, we ensure reproducibility through version-controlled, community-curated workflows that use containerized software environments (Conda, Docker, or Singularity) to fix tool versions. Standardized configuration profiles and shared parameter files allow all participants to run identical analyses across different systems, while automatic logging and reporting provide full transparency of software versions and settings. This guarantees that results can be consistently replicated during the course and in future research."
   ]
  },
  {
   "cell_type": "markdown",
   "metadata": {},
   "source": [
    "You have successfully downloaded 2 of the fastq files we will use in our study.\n",
    "\n",
    "What is the next step if we want to first have a count table and check the quality of our fastq files? What is the pipeline called to do so?"
   ]
  },
  {
   "cell_type": "markdown",
   "metadata": {},
   "source": [
    "After downloading the FASTQ files, the next step is to run the nf-core/rnaseq pipeline, which performs quality control using tools like FastQC and MultiQC and then processes the reads through alignment or pseudo-alignment to generate a gene-level count table and count of number of transcriptomes per gene across all reads. This ensures that you both assess the quality of your raw data and obtain the count matrix needed for downstream analyses such as differential expression."
   ]
  },
  {
   "cell_type": "markdown",
   "metadata": {},
   "source": [
    "Analyze the 2 files using an nf-core pipeline.\n",
    "\n",
    "What does this pipeline do?\n",
    "\n",
    "Which are the main tools that will be used in the pipeline?"
   ]
  },
  {
   "cell_type": "markdown",
   "metadata": {},
   "source": [
    "The nf-core/rnaseq pipeline takes your FASTQ files and performs a full RNA-seq analysis workflow. It first assesses the quality of the reads using FastQC and summarizes the results with MultiQC, then processes the reads by aligning them to a reference genome with tools like STAR or HISAT2 (or pseudo-aligning with Salmon/Kallisto), and finally generates gene-level count tables for downstream analyses such as differential expression. These steps ensure both the quality control of your sequencing data and the production of standardized, reproducible quantifications."
   ]
  },
  {
   "cell_type": "markdown",
   "metadata": {},
   "source": [
    "As all other nf-core pipelines, the chosen pipeline takes in a samplesheet as input.\n",
    "\n",
    "Use Python and pandas to create the samplesheet for your 2 samples. Feel free to make use of the table you created earlier today.\n",
    "\n",
    "Choose your sample names wisely, they must be the connection of the results to the metadata. If you can't find the sample in the metadata later, the analysis was useless."
   ]
  },
  {
   "cell_type": "code",
   "execution_count": null,
   "metadata": {},
   "outputs": [],
   "source": [
    "!nextflow run nf-core/rnaseq -profile docker -c custom.config -resume --input ./SRFetch_results/samplesheet/samplesheet.csv --outdir output --genome GRCm38"
   ]
  },
  {
   "cell_type": "markdown",
   "metadata": {},
   "source": [
    "\n",
    "`!nextflow run` `nf-core/rnaseq`  Launches the nf-core/rnaseq pipeline\n",
    "\n",
    "`-profile` `docker` Runs all tools inside Docker containers to ensure reproducibility and avoid dependency issues.\n",
    "\n",
    "`-c` `custom.config` Loads a user-defined Nextflow configuration file (useful for customizing compute resources, paths, or environment settings).\n",
    "\n",
    "`-resume` Resumes the pipeline from the last successful step, preventing re-execution of completed tasks. \n",
    "\n",
    "`--input` `./SRFetch_results_samplesheet/samplesheet.csv` Specifies the input sample sheet in CSV format, containing metadata and paths to raw FASTQ files. \n",
    "\n",
    "`--outdir` `output` Sets the output directory for all pipeline results, including QC reports, alignments, and quantifications.\n",
    "\n",
    "`--genome` `GRCm38` Defines the reference genome to use for alignment and quantification (here, mouse genome GRCm38).\n"
   ]
  },
  {
   "cell_type": "markdown",
   "metadata": {},
   "source": [
    "--genome GRCm38"
   ]
  },
  {
   "cell_type": "markdown",
   "metadata": {},
   "source": [
    "## Browsing the results"
   ]
  },
  {
   "cell_type": "markdown",
   "metadata": {},
   "source": [
    "Pipeline has not executed"
   ]
  },
  {
   "cell_type": "markdown",
   "metadata": {},
   "source": [
    "How did the pipeline perform?"
   ]
  },
  {
   "cell_type": "markdown",
   "metadata": {},
   "source": [
    "Explain the quality control steps. Are you happy with the quality and why. If not, why not.\n",
    "Please give additional information on : \n",
    "- ribosomal rRNA\n",
    "- Duplication\n",
    "- GC content\n",
    "\n",
    "What are the possible steps that could lead to poorer results?"
   ]
  },
  {
   "cell_type": "markdown",
   "metadata": {},
   "source": [
    "Would you exclude any samples? If yes, which and why?"
   ]
  },
  {
   "cell_type": "code",
   "execution_count": null,
   "metadata": {},
   "outputs": [],
   "source": []
  },
  {
   "cell_type": "markdown",
   "metadata": {},
   "source": [
    "What would you now do to continue the experiment? What are the scientists trying to figure out? Which packages on R or python would you use?"
   ]
  }
 ],
 "metadata": {
  "kernelspec": {
   "display_name": "comp_workflows",
   "language": "python",
   "name": "python3"
  },
  "language_info": {
   "codemirror_mode": {
    "name": "ipython",
    "version": 3
   },
   "file_extension": ".py",
   "mimetype": "text/x-python",
   "name": "python",
   "nbconvert_exporter": "python",
   "pygments_lexer": "ipython3",
   "version": "3.13.0"
  }
 },
 "nbformat": 4,
 "nbformat_minor": 2
}
