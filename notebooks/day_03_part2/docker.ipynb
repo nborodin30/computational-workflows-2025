{
 "cells": [
  {
   "cell_type": "markdown",
   "metadata": {},
   "source": [
    "# A short introduction to containerized software\n",
    "\n",
    "After spending time using nf-core pipelines to answer bioinformatic questions, we will focus on the processes that lie behind these pipelines now.\n",
    "\n",
    "Today, we will focus on containerization, namely via Docker. \n",
    "\n"
   ]
  },
  {
   "cell_type": "markdown",
   "metadata": {},
   "source": [
    "1. Check if Docker is installed."
   ]
  },
  {
   "cell_type": "code",
   "execution_count": 40,
   "metadata": {},
   "outputs": [
    {
     "name": "stdout",
     "output_type": "stream",
     "text": [
      "Client:\n",
      " Version:    28.3.3\n",
      " Context:    desktop-linux\n",
      " Debug Mode: false\n",
      " Plugins:\n",
      "  ai: Docker AI Agent - Ask Gordon (Docker Inc.)\n",
      "    Version:  v1.9.11\n",
      "    Path:     /Users/Nikita/.docker/cli-plugins/docker-ai\n",
      "  buildx: Docker Buildx (Docker Inc.)\n",
      "    Version:  v0.27.0-desktop.1\n",
      "    Path:     /Users/Nikita/.docker/cli-plugins/docker-buildx\n",
      "  cloud: Docker Cloud (Docker Inc.)\n",
      "    Version:  v0.4.21\n",
      "    Path:     /Users/Nikita/.docker/cli-plugins/docker-cloud\n",
      "  compose: Docker Compose (Docker Inc.)\n",
      "    Version:  v2.39.2-desktop.1\n",
      "    Path:     /Users/Nikita/.docker/cli-plugins/docker-compose\n",
      "  debug: Get a shell into any image or container (Docker Inc.)\n",
      "    Version:  0.0.42\n",
      "    Path:     /Users/Nikita/.docker/cli-plugins/docker-debug\n",
      "  desktop: Docker Desktop commands (Docker Inc.)\n",
      "    Version:  v0.2.0\n",
      "    Path:     /Users/Nikita/.docker/cli-plugins/docker-desktop\n",
      "  extension: Manages Docker extensions (Docker Inc.)\n",
      "    Version:  v0.2.31\n",
      "    Path:     /Users/Nikita/.docker/cli-plugins/docker-extension\n",
      "  init: Creates Docker-related starter files for your project (Docker Inc.)\n",
      "    Version:  v1.4.0\n",
      "    Path:     /Users/Nikita/.docker/cli-plugins/docker-init\n",
      "  mcp: Docker MCP Plugin (Docker Inc.)\n",
      "    Version:  v0.15.0\n",
      "    Path:     /Users/Nikita/.docker/cli-plugins/docker-mcp\n",
      "  model: Docker Model Runner (EXPERIMENTAL) (Docker Inc.)\n",
      "    Version:  v0.1.39\n",
      "    Path:     /Users/Nikita/.docker/cli-plugins/docker-model\n",
      "  sbom: View the packaged-based Software Bill Of Materials (SBOM) for an image (Anchore Inc.)\n",
      "    Version:  0.6.0\n",
      "    Path:     /Users/Nikita/.docker/cli-plugins/docker-sbom\n",
      "  scout: Docker Scout (Docker Inc.)\n",
      "    Version:  v1.18.3\n",
      "    Path:     /Users/Nikita/.docker/cli-plugins/docker-scout\n",
      "\n",
      "Server:\n",
      " Containers: 3\n",
      "  Running: 0\n",
      "  Paused: 0\n",
      "  Stopped: 3\n",
      " Images: 19\n",
      " Server Version: 28.3.3\n",
      " Storage Driver: overlayfs\n",
      "  driver-type: io.containerd.snapshotter.v1\n",
      " Logging Driver: json-file\n",
      " Cgroup Driver: cgroupfs\n",
      " Cgroup Version: 2\n",
      " Plugins:\n",
      "  Volume: local\n",
      "  Network: bridge host ipvlan macvlan null overlay\n",
      "  Log: awslogs fluentd gcplogs gelf journald json-file local splunk syslog\n",
      " CDI spec directories:\n",
      "  /etc/cdi\n",
      "  /var/run/cdi\n",
      " Discovered Devices:\n",
      "  cdi: docker.com/gpu=webgpu\n",
      " Swarm: inactive\n",
      " Runtimes: io.containerd.runc.v2 runc\n",
      " Default Runtime: runc\n",
      " Init Binary: docker-init\n",
      " containerd version: 05044ec0a9a75232cad458027ca83437aae3f4da\n",
      " runc version: v1.2.5-0-g59923ef\n",
      " init version: de40ad0\n",
      " Security Options:\n",
      "  seccomp\n",
      "   Profile: builtin\n",
      "  cgroupns\n",
      " Kernel Version: 6.10.14-linuxkit\n",
      " Operating System: Docker Desktop\n",
      " OSType: linux\n",
      " Architecture: aarch64\n",
      " CPUs: 10\n",
      " Total Memory: 7.654GiB\n",
      " Name: docker-desktop\n",
      " ID: fea1f5c6-79ee-431a-906c-8a585f60bab4\n",
      " Docker Root Dir: /var/lib/docker\n",
      " Debug Mode: false\n",
      " HTTP Proxy: http.docker.internal:3128\n",
      " HTTPS Proxy: http.docker.internal:3128\n",
      " No Proxy: hubproxy.docker.internal\n",
      " Labels:\n",
      "  com.docker.desktop.address=unix:///Users/Nikita/Library/Containers/com.docker.docker/Data/docker-cli.sock\n",
      " Experimental: false\n",
      " Insecure Registries:\n",
      "  hubproxy.docker.internal:5555\n",
      "  ::1/128\n",
      "  127.0.0.0/8\n",
      " Live Restore Enabled: false\n",
      "\n"
     ]
    }
   ],
   "source": [
    "!docker info"
   ]
  },
  {
   "cell_type": "markdown",
   "metadata": {},
   "source": [
    "### What is a container?"
   ]
  },
  {
   "cell_type": "markdown",
   "metadata": {},
   "source": [
    "A container is a lightweight, portable package that includes an application and all its dependencies (libraries, system tools, code, runtime, settings) needed to run it. Unlike virtual machines, containers share the host OS kernel, making them more efficient. Think of it as a \"shipping container\" for software - it ensures the application runs consistently across different environments."
   ]
  },
  {
   "cell_type": "markdown",
   "metadata": {},
   "source": [
    "### Why do we use containers?"
   ]
  },
  {
   "cell_type": "markdown",
   "metadata": {},
   "source": [
    "We use containers for several key reasons:\n",
    "- **Reproducibility**: Same environment everywhere (dev, testing, production)\n",
    "- **Portability**: Runs consistently across different systems and platforms\n",
    "- **Isolation**: Applications don't interfere with each other\n",
    "- **Efficiency**: Lightweight compared to virtual machines\n",
    "- **Version control**: Can manage different versions of software easily\n",
    "- **Dependency management**: All dependencies bundled together"
   ]
  },
  {
   "cell_type": "markdown",
   "metadata": {},
   "source": [
    "A Docker image is a read-only template used to create containers. It's like a \"blueprint\" that contains:\n",
    "- The application code\n",
    "- Runtime environment\n",
    "- Libraries and dependencies\n",
    "- Environment variables\n",
    "- Configuration files\n",
    "\n",
    "Images are built in layers, making them efficient to store and transfer. When you run an image, it creates a container instance."
   ]
  },
  {
   "cell_type": "markdown",
   "metadata": {},
   "source": [
    "### Login to docker"
   ]
  },
  {
   "cell_type": "code",
   "execution_count": 41,
   "metadata": {},
   "outputs": [],
   "source": [
    "# This you need to do on the command line directly"
   ]
  },
  {
   "cell_type": "markdown",
   "metadata": {},
   "source": [
    "### Run your first docker container"
   ]
  },
  {
   "cell_type": "code",
   "execution_count": 42,
   "metadata": {},
   "outputs": [
    {
     "name": "stdout",
     "output_type": "stream",
     "text": [
      "\n",
      "Hello from Docker!\n",
      "This message shows that your installation appears to be working correctly.\n",
      "\n",
      "To generate this message, Docker took the following steps:\n",
      " 1. The Docker client contacted the Docker daemon.\n",
      " 2. The Docker daemon pulled the \"hello-world\" image from the Docker Hub.\n",
      "    (arm64v8)\n",
      " 3. The Docker daemon created a new container from that image which runs the\n",
      "    executable that produces the output you are currently reading.\n",
      " 4. The Docker daemon streamed that output to the Docker client, which sent it\n",
      "    to your terminal.\n",
      "\n",
      "To try something more ambitious, you can run an Ubuntu container with:\n",
      " $ docker run -it ubuntu bash\n",
      "\n",
      "Share images, automate workflows, and more with a free Docker ID:\n",
      " https://hub.docker.com/\n",
      "\n",
      "For more examples and ideas, visit:\n",
      " https://docs.docker.com/get-started/\n",
      "\n"
     ]
    }
   ],
   "source": [
    "!docker run hello-world"
   ]
  },
  {
   "cell_type": "markdown",
   "metadata": {},
   "source": [
    "### Find the container ID"
   ]
  },
  {
   "cell_type": "code",
   "execution_count": 43,
   "metadata": {},
   "outputs": [
    {
     "name": "stdout",
     "output_type": "stream",
     "text": [
      "CONTAINER ID   IMAGE                                            COMMAND                  CREATED          STATUS                              PORTS     NAMES\n",
      "eaf6b408ee55   hello-world                                      \"/hello\"                 1 second ago     Exited (0) Less than a second ago             elegant_wing\n",
      "480d8fe75aa4   quay.io/biocontainers/salmon:1.9.0--h7e5ed60_1   \"/usr/local/env-exec…\"   3 minutes ago    Exited (0) About a minute ago                 goofy_curie\n",
      "96b56c23e048   my-salmon                                        \"salmon --version\"       14 minutes ago   Exited (255) About a minute ago               suspicious_blackburn\n",
      "e61fcee0bb89   my-salmon                                        \"salmon --version\"       19 minutes ago   Exited (255) About a minute ago               quirky_bose\n"
     ]
    }
   ],
   "source": [
    "# List all containers (running and stopped)\n",
    "!docker ps -a"
   ]
  },
  {
   "cell_type": "markdown",
   "metadata": {},
   "source": [
    "### Delete the container again, give prove its deleted"
   ]
  },
  {
   "cell_type": "code",
   "execution_count": 66,
   "metadata": {},
   "outputs": [
    {
     "name": "stdout",
     "output_type": "stream",
     "text": [
      "fdce05fc6bb5\n"
     ]
    }
   ],
   "source": [
    "# Delete container by ID (replace CONTAINER_ID with actual ID from above)\n",
    "!docker rm fdce05fc6bb5"
   ]
  },
  {
   "cell_type": "code",
   "execution_count": 67,
   "metadata": {},
   "outputs": [
    {
     "name": "stdout",
     "output_type": "stream",
     "text": [
      "CONTAINER ID   IMAGE     COMMAND   CREATED   STATUS    PORTS     NAMES\n"
     ]
    }
   ],
   "source": [
    "# Verify container is deleted\n",
    "!docker ps -a"
   ]
  },
  {
   "cell_type": "markdown",
   "metadata": {},
   "source": [
    "### FASTQC is a very useful tool as you've learned last week. Let's try and run it from command line\n",
    "\n",
    "Link to the software: https://www.bioinformatics.babraham.ac.uk/projects/fastqc/"
   ]
  },
  {
   "cell_type": "markdown",
   "metadata": {},
   "source": [
    "Please describe the steps you took to download and run the software for the example fastq file from last week below:"
   ]
  },
  {
   "cell_type": "markdown",
   "metadata": {},
   "source": [
    "1. Download FastQC from the website (https://www.bioinformatics.babraham.ac.uk/projects/fastqc/)\n",
    "2. Extract the downloaded archive\n",
    "3. Make the fastqc script executable (`chmod +x fastqc`)\n",
    "4. Install Java (required dependency)\n",
    "5. Run FastQC on the example file: `./fastqc example.fastq`\n",
    "6. View the generated HTML report"
   ]
  },
  {
   "cell_type": "markdown",
   "metadata": {},
   "source": [
    "### Very well, now let's try to make use of its docker container\n",
    "\n",
    "1. create a container holding fastqc using seqera containers (https://seqera.io/containers/)\n",
    "2. use the container to generate a fastqc html of the example fastq file"
   ]
  },
  {
   "cell_type": "code",
   "execution_count": 68,
   "metadata": {},
   "outputs": [
    {
     "name": "stdout",
     "output_type": "stream",
     "text": [
      "0.12.1--hdfd78af_0: Pulling from biocontainers/fastqc\n",
      "Digest: sha256:e194048df39c3145d9b4e0a14f4da20b59d59250465b6f2a9cb698445fd45900\n",
      "Status: Image is up to date for quay.io/biocontainers/fastqc:0.12.1--hdfd78af_0\n",
      "quay.io/biocontainers/fastqc:0.12.1--hdfd78af_0\n"
     ]
    }
   ],
   "source": [
    "# Pull FastQC container from Seqera\n",
    "!docker pull quay.io/biocontainers/fastqc:0.12.1--hdfd78af_0"
   ]
  },
  {
   "cell_type": "code",
   "execution_count": 69,
   "metadata": {},
   "outputs": [
    {
     "name": "stdout",
     "output_type": "stream",
     "text": [
      "REPOSITORY                                                 TAG                     IMAGE ID       CREATED          SIZE\n",
      "my-cowsay                                                  latest                  9a9cbcbbcd65   21 minutes ago   188MB\n",
      "my-salmon                                                  latest                  d92193ea5e48   22 minutes ago   400MB\n",
      "hello-world                                                latest                  54e66cc1dd1f   7 weeks ago      16.9kB\n",
      "quay.io/biocontainers/samtools                             1.21--h50ea8bc_0        783c6646029a   12 months ago    108MB\n",
      "quay.io/biocontainers/fq                                   0.12.0--h9ee0642_0      74b59572f1d0   15 months ago    20MB\n",
      "quay.io/biocontainers/r-shinyngs                           1.8.8--r43hdfd78af_0    e0de72408557   17 months ago    1.99GB\n",
      "quay.io/biocontainers/atlas-gene-annotation-manipulation   1.1.1--hdfd78af_0       099d0e113ec8   18 months ago    1.82GB\n",
      "combinelab/salmon                                          latest                  cefd8bb0b2ed   18 months ago    152MB\n",
      "quay.io/nf-core/ubuntu                                     20.04                   59e9d08d8dc1   2 years ago      110MB\n",
      "quay.io/biocontainers/fastqc                               0.12.1--hdfd78af_0      e194048df39c   2 years ago      939MB\n",
      "quay.io/biocontainers/pandas                               1.5.2                   cbb54fcf8730   2 years ago      493MB\n",
      "quay.io/biocontainers/gsea                                 4.3.2--hdfd78af_0       0010041fff53   2 years ago      849MB\n",
      "quay.io/biocontainers/r-base                               4.2.1                   6721ee8bfba2   2 years ago      1.17GB\n",
      "quay.io/biocontainers/p7zip                                16.02                   731aaeef376a   3 years ago      47.7MB\n",
      "quay.io/biocontainers/salmon                               1.9.0--h7e5ed60_1       e56485bfa269   3 years ago      355MB\n",
      "quay.io/biocontainers/python                               3.9--1                  d97d2b329b4e   4 years ago      275MB\n",
      "quay.io/biocontainers/gawk                                 5.1.0                   9d300f3d0a35   5 years ago      53.4MB\n",
      "quay.io/biocontainers/bioconductor-deseq2                  1.34.0--r41hc247a5b_3   c06884d353ef   55 years ago     452MB\n",
      "quay.io/biocontainers/wget                                 1.20.1                  7e5ba9e87a25   55 years ago     26.9MB\n"
     ]
    }
   ],
   "source": [
    "!docker images"
   ]
  },
  {
   "cell_type": "code",
   "execution_count": 48,
   "metadata": {},
   "outputs": [
    {
     "name": "stdout",
     "output_type": "stream",
     "text": [
      "/Users/Nikita/Desktop/Studium/Master/Comp Workflows/computational-workflows-2025/notebooks/day_03_part2\n"
     ]
    }
   ],
   "source": [
    "!pwd\n"
   ]
  },
  {
   "cell_type": "code",
   "execution_count": 49,
   "metadata": {},
   "outputs": [
    {
     "name": "stdout",
     "output_type": "stream",
     "text": [
      "docker: Error response from daemon: create computational-workflows-2025/notebooks/day_02/results/fastq/md5: \"computational-workflows-2025/notebooks/day_02/results/fastq/md5\" includes invalid characters for a local volume name, only \"[a-zA-Z0-9][a-zA-Z0-9_.-]\" are allowed. If you intended to pass a host directory, use absolute path\n",
      "\n",
      "Run 'docker run --help' for more information\n"
     ]
    }
   ],
   "source": [
    "# Create output directory and run FastQC on the actual FASTQ file\n",
    "!mkdir -p fastqc_results    \n",
    "!docker run -v \"$PWD/fastqc_results:/output\" -v \"computational-workflows-2025/notebooks/day_02/results/fastq/md5:/data\" quay.io/biocontainers/fastqc:0.12.1--hdfd78af_0 fastqc /data/SRX19144488_SRR23195511_1.fastq.gz -o /output\n"
   ]
  },
  {
   "cell_type": "markdown",
   "metadata": {},
   "source": [
    "### Now that you know how to use a docker container, which approach was easier and which approach will be easier in the future?"
   ]
  },
  {
   "cell_type": "markdown",
   "metadata": {},
   "source": [
    "**Docker approach is easier and more future-proof:**\n",
    "- **Initial setup**: Docker is easier - just pull and run, no manual installation\n",
    "- **Future use**: Docker is much easier - same command works everywhere\n",
    "- **Maintenance**: Docker handles updates and dependencies automatically\n",
    "- **Sharing**: Others can reproduce results with a single command\n",
    "- **Multiple versions**: Can easily switch between different tool versions"
   ]
  },
  {
   "cell_type": "markdown",
   "metadata": {},
   "source": [
    "**Docker is significantly more reproducible:**\n",
    "- **Exact environment**: Same OS, libraries, and tool versions every time\n",
    "- **No dependency conflicts**: Isolated from host system variations\n",
    "- **Version locked**: Specific container version ensures identical results\n",
    "- **Cross-platform**: Works identically on different operating systems\n",
    "- **Time-proof**: Results reproducible months/years later with same container\n",
    "\n",
    "Manual installation varies between systems, OS versions, and available dependencies."
   ]
  },
  {
   "cell_type": "markdown",
   "metadata": {},
   "source": [
    "## Dockerfiles\n",
    "\n",
    "We now used Docker containers and images directly to boost our research. \n",
    "\n",
    "Let's create our own toy Dockerfile including the \"cowsay\" tool (https://en.wikipedia.org/wiki/Cowsay)\n",
    "\n",
    "Hints:\n",
    "1. Docker is Linux, so you need to know the apt-get command to install \"cowsay\""
   ]
  },
  {
   "cell_type": "code",
   "execution_count": 50,
   "metadata": {},
   "outputs": [
    {
     "name": "stdout",
     "output_type": "stream",
     "text": [
      "# this is the base image the container is built on. In this case, it is a slim version of the Debian operating system.\n",
      "FROM debian:bullseye-slim\n",
      "\n",
      "# these are the labels that are added to the image. They are metadata that can be used to identify the author of the image.\n",
      "LABEL image.author.name \"Mykyta Borodin\"\n",
      "LABEL image.author.email \"mykyta.borodin@student.uni-tuebingen.de\"\n",
      "\n",
      "# Update package list and install dependencies\n",
      "RUN apt-get update && apt-get install -y curl cowsay && rm -rf /var/lib/apt/lists/*\n",
      "\n",
      "# Set PATH to include /usr/games where cowsay is installed\n",
      "ENV PATH=\"/usr/games:$PATH\"\n"
     ]
    }
   ],
   "source": [
    "# Display the contents of my_dockerfile\n",
    "!cat my_dockerfile"
   ]
  },
  {
   "cell_type": "markdown",
   "metadata": {},
   "source": [
    "### Explain the RUN and ENV lines you added to the file"
   ]
  },
  {
   "cell_type": "markdown",
   "metadata": {},
   "source": [
    "**RUN instruction:**\n",
    "- Executes commands during image build process\n",
    "- Each RUN creates a new layer in the image\n",
    "- Used to install software, update packages, create files\n",
    "- Example: `RUN apt-get update && apt-get install -y cowsay`\n",
    "\n",
    "**ENV instruction:**\n",
    "- Sets environment variables in the container\n",
    "- Variables persist when container runs\n",
    "- Used to configure application behavior\n",
    "- Example: `ENV PATH=\"/usr/games:$PATH\"` (adds cowsay to PATH)"
   ]
  },
  {
   "cell_type": "code",
   "execution_count": 51,
   "metadata": {},
   "outputs": [
    {
     "name": "stdout",
     "output_type": "stream",
     "text": [
      "\u001b[1A\u001b[1B\u001b[0G\u001b[?25l\n",
      "\u001b[?25h\u001b[1A\u001b[0G\u001b[?25l[+] Building 0.0s (0/1)                                    docker:desktop-linux\n",
      "\u001b[?25h\u001b[1A\u001b[0G\u001b[?25l[+] Building 0.2s (1/2)                                    docker:desktop-linux\n",
      "\u001b[34m => [internal] load build definition from my_dockerfile                    0.0s\n",
      "\u001b[0m\u001b[34m => => transferring dockerfile: 640B                                       0.0s\n",
      "\u001b[0m => [internal] load metadata for docker.io/library/debian:bullseye-slim    0.2s\n",
      "\u001b[?25h\u001b[1A\u001b[1A\u001b[1A\u001b[1A\u001b[0G\u001b[?25l[+] Building 0.3s (1/2)                                    docker:desktop-linux\n",
      "\u001b[34m => [internal] load build definition from my_dockerfile                    0.0s\n",
      "\u001b[0m\u001b[34m => => transferring dockerfile: 640B                                       0.0s\n",
      "\u001b[0m => [internal] load metadata for docker.io/library/debian:bullseye-slim    0.3s\n",
      "\u001b[?25h\u001b[1A\u001b[1A\u001b[1A\u001b[1A\u001b[0G\u001b[?25l[+] Building 0.5s (1/2)                                    docker:desktop-linux\n",
      "\u001b[34m => [internal] load build definition from my_dockerfile                    0.0s\n",
      "\u001b[0m\u001b[34m => => transferring dockerfile: 640B                                       0.0s\n",
      "\u001b[0m => [internal] load metadata for docker.io/library/debian:bullseye-slim    0.4s\n",
      "\u001b[?25h\u001b[1A\u001b[1A\u001b[1A\u001b[1A\u001b[0G\u001b[?25l[+] Building 0.6s (1/2)                                    docker:desktop-linux\n",
      "\u001b[34m => [internal] load build definition from my_dockerfile                    0.0s\n",
      "\u001b[0m\u001b[34m => => transferring dockerfile: 640B                                       0.0s\n",
      "\u001b[0m => [internal] load metadata for docker.io/library/debian:bullseye-slim    0.6s\n",
      "\u001b[?25h\u001b[1A\u001b[1A\u001b[1A\u001b[1A\u001b[0G\u001b[?25l[+] Building 0.8s (1/2)                                    docker:desktop-linux\n",
      "\u001b[34m => [internal] load build definition from my_dockerfile                    0.0s\n",
      "\u001b[0m\u001b[34m => => transferring dockerfile: 640B                                       0.0s\n",
      "\u001b[0m => [internal] load metadata for docker.io/library/debian:bullseye-slim    0.8s\n",
      "\u001b[?25h\u001b[1A\u001b[1A\u001b[1A\u001b[1A\u001b[0G\u001b[?25l[+] Building 0.9s (1/2)                                    docker:desktop-linux\n",
      "\u001b[34m => [internal] load build definition from my_dockerfile                    0.0s\n",
      "\u001b[0m\u001b[34m => => transferring dockerfile: 640B                                       0.0s\n",
      "\u001b[0m => [internal] load metadata for docker.io/library/debian:bullseye-slim    0.9s\n",
      "\u001b[?25h\u001b[1A\u001b[1A\u001b[1A\u001b[1A\u001b[0G\u001b[?25l[+] Building 1.0s (2/2)                                    docker:desktop-linux\n",
      "\u001b[34m => [internal] load build definition from my_dockerfile                    0.0s\n",
      "\u001b[0m\u001b[34m => => transferring dockerfile: 640B                                       0.0s\n",
      "\u001b[0m\u001b[34m => [internal] load metadata for docker.io/library/debian:bullseye-slim    1.0s\n",
      "\u001b[0m\u001b[?25h\u001b[1A\u001b[1A\u001b[1A\u001b[1A\u001b[0G\u001b[?25l[+] Building 1.1s (6/6) FINISHED                           docker:desktop-linux\n",
      "\u001b[34m => [internal] load build definition from my_dockerfile                    0.0s\n",
      "\u001b[0m\u001b[34m => => transferring dockerfile: 640B                                       0.0s\n",
      "\u001b[0m\u001b[34m => [internal] load metadata for docker.io/library/debian:bullseye-slim    1.0s\n",
      "\u001b[0m\u001b[34m => [internal] load .dockerignore                                          0.0s\n",
      "\u001b[0m\u001b[34m => => transferring context: 2B                                            0.0s\n",
      "\u001b[0m\u001b[34m => [1/2] FROM docker.io/library/debian:bullseye-slim@sha256:f807f4b16002  0.0s\n",
      "\u001b[0m\u001b[34m => => resolve docker.io/library/debian:bullseye-slim@sha256:f807f4b16002  0.0s\n",
      "\u001b[0m\u001b[34m => CACHED [2/2] RUN apt-get update && apt-get install -y curl cowsay &&   0.0s\n",
      "\u001b[0m\u001b[34m => exporting to image                                                     0.0s\n",
      "\u001b[0m\u001b[34m => => exporting layers                                                    0.0s\n",
      "\u001b[0m\u001b[34m => => exporting manifest sha256:81f269333689782dab5c78b49363ebc3e601c3d4  0.0s\n",
      "\u001b[0m\u001b[34m => => exporting config sha256:a364e6a3d941cf7c14f68347ec13293b0d0374f6bf  0.0s\n",
      "\u001b[0m\u001b[34m => => exporting attestation manifest sha256:25f6c1f02175b1b1e12f25ed1898  0.0s\n",
      "\u001b[0m\u001b[34m => => exporting manifest list sha256:9a9cbcbbcd658d8e46aa43f4dfb7c35b933  0.0s\n",
      "\u001b[0m\u001b[34m => => naming to docker.io/library/my-cowsay:latest                        0.0s\n",
      "\u001b[0m\u001b[34m => => unpacking to docker.io/library/my-cowsay:latest                     0.0s\n",
      "\u001b[0m\u001b[?25h\n",
      " \u001b[33m2 warnings found (use docker --debug to expand):\n",
      "\u001b[0m - LegacyKeyValueFormat: \"LABEL key=value\" should be used instead of legacy \"LABEL key value\" format (line 5)\n",
      " - LegacyKeyValueFormat: \"LABEL key=value\" should be used instead of legacy \"LABEL key value\" format (line 6)\n",
      "\n",
      "View build details: \u001b]8;;docker-desktop://dashboard/build/desktop-linux/desktop-linux/2n4m7exiotm20c6443bl2f1jh\u001b\\docker-desktop://dashboard/build/desktop-linux/desktop-linux/2n4m7exiotm20c6443bl2f1jh\u001b]8;;\u001b\\\n"
     ]
    }
   ],
   "source": [
    "# Build the Docker image from the Dockerfile\n",
    "!docker build -t my-cowsay -f my_dockerfile ."
   ]
  },
  {
   "cell_type": "code",
   "execution_count": 52,
   "metadata": {},
   "outputs": [
    {
     "name": "stdout",
     "output_type": "stream",
     "text": [
      "REPOSITORY                                                 TAG                     IMAGE ID       CREATED          SIZE\n",
      "my-cowsay                                                  latest                  9a9cbcbbcd65   19 minutes ago   188MB\n",
      "my-salmon                                                  latest                  c3ee6bf1c079   20 minutes ago   400MB\n",
      "hello-world                                                latest                  54e66cc1dd1f   7 weeks ago      16.9kB\n",
      "quay.io/biocontainers/samtools                             1.21--h50ea8bc_0        783c6646029a   12 months ago    108MB\n",
      "quay.io/biocontainers/fq                                   0.12.0--h9ee0642_0      74b59572f1d0   15 months ago    20MB\n",
      "quay.io/biocontainers/r-shinyngs                           1.8.8--r43hdfd78af_0    e0de72408557   17 months ago    1.99GB\n",
      "quay.io/biocontainers/atlas-gene-annotation-manipulation   1.1.1--hdfd78af_0       099d0e113ec8   18 months ago    1.82GB\n",
      "combinelab/salmon                                          latest                  cefd8bb0b2ed   18 months ago    152MB\n",
      "quay.io/nf-core/ubuntu                                     20.04                   59e9d08d8dc1   2 years ago      110MB\n",
      "quay.io/biocontainers/fastqc                               0.12.1--hdfd78af_0      e194048df39c   2 years ago      939MB\n",
      "quay.io/biocontainers/pandas                               1.5.2                   cbb54fcf8730   2 years ago      493MB\n",
      "quay.io/biocontainers/gsea                                 4.3.2--hdfd78af_0       0010041fff53   2 years ago      849MB\n",
      "quay.io/biocontainers/r-base                               4.2.1                   6721ee8bfba2   2 years ago      1.17GB\n",
      "quay.io/biocontainers/p7zip                                16.02                   731aaeef376a   3 years ago      47.7MB\n",
      "quay.io/biocontainers/salmon                               1.9.0--h7e5ed60_1       e56485bfa269   3 years ago      355MB\n",
      "quay.io/biocontainers/python                               3.9--1                  d97d2b329b4e   4 years ago      275MB\n",
      "quay.io/biocontainers/gawk                                 5.1.0                   9d300f3d0a35   5 years ago      53.4MB\n",
      "quay.io/biocontainers/bioconductor-deseq2                  1.34.0--r41hc247a5b_3   c06884d353ef   55 years ago     452MB\n",
      "quay.io/biocontainers/wget                                 1.20.1                  7e5ba9e87a25   55 years ago     26.9MB\n"
     ]
    }
   ],
   "source": [
    "# List Docker images to verify it was built\n",
    "!docker images"
   ]
  },
  {
   "cell_type": "code",
   "execution_count": 53,
   "metadata": {},
   "outputs": [
    {
     "name": "stdout",
     "output_type": "stream",
     "text": [
      " _______________\n",
      "< Hello Docker! >\n",
      " ---------------\n",
      "        \\   ^__^\n",
      "         \\  (oo)\\_______\n",
      "            (__)\\       )\\/\\\n",
      "                ||----w |\n",
      "                ||     ||\n"
     ]
    }
   ],
   "source": [
    "# Run the cowsay container\n",
    "!docker run my-cowsay cowsay \"Hello Docker!\""
   ]
  },
  {
   "cell_type": "markdown",
   "metadata": {},
   "source": [
    "## Let's do some bioinformatics with the docker file and create a new docker file that holds the salmon tool used in rnaseq\n",
    "\n",
    "To do so, use \"curl\" in your new dockerfile to get salmon from https://github.com/COMBINE-lab/salmon/releases/download/v1.5.2/salmon-1.5.2_linux_x86_64.tar.gz"
   ]
  },
  {
   "cell_type": "code",
   "execution_count": 54,
   "metadata": {},
   "outputs": [
    {
     "name": "stdout",
     "output_type": "stream",
     "text": [
      "FROM debian:bullseye-slim\n",
      "\n",
      "LABEL image.author.name=\"Mykyta Borodin\"\n",
      "LABEL image.author.email=\"mykyta.borodin@student.uni-tuebingen.de\"\n",
      "\n",
      "# Install dependencies\n",
      "RUN apt-get update && apt-get install -y curl && rm -rf /var/lib/apt/lists/*\n",
      "\n",
      "# Download and install Salmon\n",
      "RUN curl -L https://github.com/COMBINE-lab/salmon/releases/download/v1.5.2/salmon-1.5.2_linux_x86_64.tar.gz -o salmon.tar.gz && \\\n",
      "    tar -xzf salmon.tar.gz && \\\n",
      "    mv salmon-1.5.2_linux_x86_64 /opt/salmon && \\\n",
      "    rm salmon.tar.gz\n",
      "\n",
      "# Set the PATH environment variable to include Salmon\n",
      "ENV PATH=\"/opt/salmon/bin:$PATH\"\n",
      "\n"
     ]
    }
   ],
   "source": [
    "# Display the contents of salmon_docker file\n",
    "!cat salmon_docker"
   ]
  },
  {
   "cell_type": "code",
   "execution_count": 55,
   "metadata": {},
   "outputs": [
    {
     "name": "stdout",
     "output_type": "stream",
     "text": [
      "\u001b[1A\u001b[1B\u001b[0G\u001b[?25l[+] Building 0.0s (0/1)                                    docker:desktop-linux\n",
      "\u001b[?25h\u001b[1A\u001b[0G\u001b[?25l[+] Building 0.2s (1/2)                                    docker:desktop-linux\n",
      "\u001b[34m => [internal] load build definition from salmon_docker                    0.0s\n",
      "\u001b[0m\u001b[34m => => transferring dockerfile: 631B                                       0.0s\n",
      "\u001b[0m => [internal] load metadata for docker.io/library/debian:bullseye-slim    0.2s\n",
      "\u001b[?25h\u001b[1A\u001b[1A\u001b[1A\u001b[1A\u001b[0G\u001b[?25l[+] Building 0.3s (2/2)                                    docker:desktop-linux\n",
      "\u001b[34m => [internal] load build definition from salmon_docker                    0.0s\n",
      "\u001b[0m\u001b[34m => => transferring dockerfile: 631B                                       0.0s\n",
      "\u001b[0m\u001b[34m => [internal] load metadata for docker.io/library/debian:bullseye-slim    0.3s\n",
      "\u001b[0m\u001b[?25h\u001b[1A\u001b[1A\u001b[1A\u001b[1A\u001b[0G\u001b[?25l[+] Building 0.4s (7/7) FINISHED                           docker:desktop-linux\n",
      "\u001b[34m => [internal] load build definition from salmon_docker                    0.0s\n",
      "\u001b[0m\u001b[34m => => transferring dockerfile: 631B                                       0.0s\n",
      "\u001b[0m\u001b[34m => [internal] load metadata for docker.io/library/debian:bullseye-slim    0.3s\n",
      "\u001b[0m\u001b[34m => [internal] load .dockerignore                                          0.0s\n",
      "\u001b[0m\u001b[34m => => transferring context: 2B                                            0.0s\n",
      "\u001b[0m\u001b[34m => [1/3] FROM docker.io/library/debian:bullseye-slim@sha256:f807f4b16002  0.0s\n",
      "\u001b[0m\u001b[34m => => resolve docker.io/library/debian:bullseye-slim@sha256:f807f4b16002  0.0s\n",
      "\u001b[0m\u001b[34m => CACHED [2/3] RUN apt-get update && apt-get install -y curl && rm -rf   0.0s\n",
      "\u001b[0m\u001b[34m => CACHED [3/3] RUN curl -L https://github.com/COMBINE-lab/salmon/releas  0.0s\n",
      "\u001b[0m\u001b[34m => exporting to image                                                     0.0s\n",
      "\u001b[0m\u001b[34m => => exporting layers                                                    0.0s\n",
      "\u001b[0m\u001b[34m => => exporting manifest sha256:c0f0a16b687627bf65b6cc9132c4f80ad045b6e2  0.0s\n",
      "\u001b[0m\u001b[34m => => exporting config sha256:87a0a7752bedf9e64fdcc0f7291a14f46cf1da910e  0.0s\n",
      "\u001b[0m\u001b[34m => => exporting attestation manifest sha256:36e6fa7bb42493039b56e45ed469  0.0s\n",
      "\u001b[0m\u001b[34m => => exporting manifest list sha256:d92193ea5e485b5ac744c24aedffc2139bc  0.0s\n",
      "\u001b[0m\u001b[34m => => naming to docker.io/library/my-salmon:latest                        0.0s\n",
      "\u001b[0m\u001b[34m => => unpacking to docker.io/library/my-salmon:latest                     0.0s\n",
      "\u001b[0m\u001b[?25h\n",
      "View build details: \u001b]8;;docker-desktop://dashboard/build/desktop-linux/desktop-linux/0h30dh4nyp0ih3hfwhsmvi9vb\u001b\\docker-desktop://dashboard/build/desktop-linux/desktop-linux/0h30dh4nyp0ih3hfwhsmvi9vb\u001b]8;;\u001b\\\n"
     ]
    }
   ],
   "source": [
    "# Build the Salmon Docker image\n",
    "!docker build -t my-salmon -f salmon_docker ."
   ]
  },
  {
   "cell_type": "code",
   "execution_count": null,
   "metadata": {},
   "outputs": [
    {
     "name": "stdout",
     "output_type": "stream",
     "text": [
      "zsh:1: command not found: ocker\n",
      "WARNING: The requested image's platform (linux/amd64) does not match the detected host platform (linux/arm64/v8) and no specific platform was requested\n",
      "salmon 1.10.3\n"
     ]
    }
   ],
   "source": [
    "!docker pull combinelab/salmon:latest\n",
    "!docker run --rm combinelab/salmon:latest salmon --version"
   ]
  },
  {
   "cell_type": "code",
   "execution_count": 57,
   "metadata": {},
   "outputs": [
    {
     "name": "stdout",
     "output_type": "stream",
     "text": [
      "REPOSITORY                                                 TAG                     IMAGE ID       CREATED          SIZE\n",
      "my-cowsay                                                  latest                  9a9cbcbbcd65   19 minutes ago   188MB\n",
      "my-salmon                                                  latest                  d92193ea5e48   20 minutes ago   400MB\n",
      "hello-world                                                latest                  54e66cc1dd1f   7 weeks ago      16.9kB\n",
      "quay.io/biocontainers/samtools                             1.21--h50ea8bc_0        783c6646029a   12 months ago    108MB\n",
      "quay.io/biocontainers/fq                                   0.12.0--h9ee0642_0      74b59572f1d0   15 months ago    20MB\n",
      "quay.io/biocontainers/r-shinyngs                           1.8.8--r43hdfd78af_0    e0de72408557   17 months ago    1.99GB\n",
      "quay.io/biocontainers/atlas-gene-annotation-manipulation   1.1.1--hdfd78af_0       099d0e113ec8   18 months ago    1.82GB\n",
      "combinelab/salmon                                          latest                  cefd8bb0b2ed   18 months ago    152MB\n",
      "quay.io/nf-core/ubuntu                                     20.04                   59e9d08d8dc1   2 years ago      110MB\n",
      "quay.io/biocontainers/fastqc                               0.12.1--hdfd78af_0      e194048df39c   2 years ago      939MB\n",
      "quay.io/biocontainers/pandas                               1.5.2                   cbb54fcf8730   2 years ago      493MB\n",
      "quay.io/biocontainers/gsea                                 4.3.2--hdfd78af_0       0010041fff53   2 years ago      849MB\n",
      "quay.io/biocontainers/r-base                               4.2.1                   6721ee8bfba2   2 years ago      1.17GB\n",
      "quay.io/biocontainers/p7zip                                16.02                   731aaeef376a   3 years ago      47.7MB\n",
      "quay.io/biocontainers/salmon                               1.9.0--h7e5ed60_1       e56485bfa269   3 years ago      355MB\n",
      "quay.io/biocontainers/python                               3.9--1                  d97d2b329b4e   4 years ago      275MB\n",
      "quay.io/biocontainers/gawk                                 5.1.0                   9d300f3d0a35   5 years ago      53.4MB\n",
      "quay.io/biocontainers/bioconductor-deseq2                  1.34.0--r41hc247a5b_3   c06884d353ef   55 years ago     452MB\n",
      "quay.io/biocontainers/wget                                 1.20.1                  7e5ba9e87a25   55 years ago     26.9MB\n"
     ]
    }
   ],
   "source": [
    "!docker images"
   ]
  },
  {
   "cell_type": "code",
   "execution_count": 58,
   "metadata": {},
   "outputs": [
    {
     "name": "stdout",
     "output_type": "stream",
     "text": [
      "1.9.0--h7e5ed60_1: Pulling from biocontainers/salmon\n",
      "Digest: sha256:e56485bfa26913aebaa6351b2ddb1308d0dc0352bf15e7f5431bc58ba5465809\n",
      "Status: Image is up to date for quay.io/biocontainers/salmon:1.9.0--h7e5ed60_1\n",
      "quay.io/biocontainers/salmon:1.9.0--h7e5ed60_1\n"
     ]
    }
   ],
   "source": [
    "# Instead, let's use the official BioContainers Salmon image\n",
    "# This is properly built for multiple architectures\n",
    "\n",
    "# Pull the official Salmon container\n",
    "!docker pull quay.io/biocontainers/salmon:1.9.0--h7e5ed60_1"
   ]
  },
  {
   "cell_type": "code",
   "execution_count": 70,
   "metadata": {},
   "outputs": [
    {
     "name": "stdout",
     "output_type": "stream",
     "text": [
      "salmon 1.9.0\n"
     ]
    }
   ],
   "source": [
    "!docker run --platform linux/amd64 quay.io/biocontainers/salmon:1.9.0--h7e5ed60_1 salmon --version"
   ]
  },
  {
   "cell_type": "markdown",
   "metadata": {},
   "source": [
    "**No, bioinformaticians don't need to create Docker images every time!**\n",
    "\n",
    "**BioContainers (https://biocontainers.pro/) are:**\n",
    "- A community-driven project providing Docker containers for bioinformatics tools\n",
    "- Automatically builds containers for tools in Bioconda\n",
    "- Provides standardized, tested containers for 1000+ bioinformatics tools\n",
    "- Ensures reproducible bioinformatics analyses\n",
    "- Integrated with workflow managers like Nextflow and Snakemake\n",
    "\n",
    "**Example using existing Salmon container:**\n",
    "```bash\n",
    "# Pull official Salmon container\n",
    "docker pull quay.io/biocontainers/salmon:1.9.0--h7e5ed60_1\n",
    "\n",
    "# Run Salmon version\n",
    "docker run quay.io/biocontainers/salmon:1.9.0--h7e5ed60_1 salmon --version\n",
    "```"
   ]
  },
  {
   "cell_type": "markdown",
   "metadata": {},
   "source": [
    "**Yes, there are other ways to create container images:**\n",
    "\n",
    "**Seqera Containers (https://seqera.io/containers/) provides:**\n",
    "- **Multi-architecture support**: Containers for x86_64, ARM64, and other architectures\n",
    "- **Multiple container formats**: Docker, Singularity/Apptainer, and Podman\n",
    "- **Enhanced BioContainers**: Extended versions with additional optimizations\n",
    "- **Enterprise features**: Security scanning, compliance, and registry management\n",
    "- **Wave service**: On-demand container building and augmentation\n",
    "\n",
    "**Other methods include:**\n",
    "- **Singularity/Apptainer**: HPC-focused containers that don't require root privileges\n",
    "- **Podman**: Rootless Docker alternative\n",
    "- **Buildah**: Build OCI-compliant images without Docker daemon\n",
    "- **Cloud services**: AWS ECR, Google Container Registry, Azure Container Registry\n",
    "- **GitHub Actions**: Automated container building in CI/CD pipelines"
   ]
  }
 ],
 "metadata": {
  "kernelspec": {
   "display_name": "comp_workflows",
   "language": "python",
   "name": "python3"
  },
  "language_info": {
   "codemirror_mode": {
    "name": "ipython",
    "version": 3
   },
   "file_extension": ".py",
   "mimetype": "text/x-python",
   "name": "python",
   "nbconvert_exporter": "python",
   "pygments_lexer": "ipython3",
   "version": "3.13.0"
  }
 },
 "nbformat": 4,
 "nbformat_minor": 2
}
