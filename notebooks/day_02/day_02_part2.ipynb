{
 "cells": [
  {
   "cell_type": "markdown",
   "metadata": {},
   "source": [
    "## Great, now that we discussed a little let's continue"
   ]
  },
  {
   "cell_type": "markdown",
   "metadata": {},
   "source": [
    "Given that the current approach utilized by the authors lacks reproducibility, we will explore an alternative method by leveraging nf-core pipelines for data analysis.\n",
    "\n",
    "Please explain, how we will achieve reproducibility for the course  with this approach.\n"
   ]
  },
  {
   "cell_type": "markdown",
   "metadata": {},
   "source": [
    "By leveraging nf-core pipelines, we ensure reproducibility through version-controlled, community-curated workflows that use containerized software environments (Conda, Docker, or Singularity) to fix tool versions. Standardized configuration profiles and shared parameter files allow all participants to run identical analyses across different systems, while automatic logging and reporting provide full transparency of software versions and settings. This guarantees that results can be consistently replicated during the course and in future research."
   ]
  },
  {
   "cell_type": "markdown",
   "metadata": {},
   "source": [
    "You have successfully downloaded 2 of the fastq files we will use in our study.\n",
    "\n",
    "What is the next step if we want to first have a count table and check the quality of our fastq files? What is the pipeline called to do so?"
   ]
  },
  {
   "cell_type": "markdown",
   "metadata": {},
   "source": [
    "After downloading the FASTQ files, the next step is to run the nf-core/rnaseq pipeline, which performs quality control using tools like FastQC and MultiQC and then processes the reads through alignment or pseudo-alignment to generate a gene-level count table. This ensures that you both assess the quality of your raw data and obtain the count matrix needed for downstream analyses such as differential expression.z"
   ]
  },
  {
   "cell_type": "markdown",
   "metadata": {},
   "source": [
    "Analyze the 2 files using an nf-core pipeline.\n",
    "\n",
    "What does this pipeline do?\n",
    "\n",
    "Which are the main tools that will be used in the pipeline?"
   ]
  },
  {
   "cell_type": "markdown",
   "metadata": {},
   "source": [
    "The nf-core/rnaseq pipeline takes your FASTQ files and performs a full RNA-seq analysis workflow. It first assesses the quality of the reads using FastQC and summarizes the results with MultiQC, then processes the reads by aligning them to a reference genome with tools like STAR or HISAT2 (or pseudo-aligning with Salmon/Kallisto), and finally generates gene-level count tables for downstream analyses such as differential expression. These steps ensure both the quality control of your sequencing data and the production of standardized, reproducible quantifications."
   ]
  },
  {
   "cell_type": "markdown",
   "metadata": {},
   "source": [
    "As all other nf-core pipelines, the chosen pipeline takes in a samplesheet as input.\n",
    "\n",
    "Use Python and pandas to create the samplesheet for your 2 samples. Feel free to make use of the table you created earlier today.\n",
    "\n",
    "Choose your sample names wisely, they must be the connection of the results to the metadata. If you can't find the sample in the metadata later, the analysis was useless."
   ]
  },
  {
   "cell_type": "markdown",
   "metadata": {},
   "source": []
  },
  {
   "cell_type": "code",
   "execution_count": null,
   "metadata": {},
   "outputs": [],
   "source": [
    "# post here the command you used to run nf-core/rnaseq"
   ]
  },
  {
   "cell_type": "code",
   "execution_count": 8,
   "metadata": {},
   "outputs": [
    {
     "name": "stdout",
     "output_type": "stream",
     "text": [
      "\n",
      "\u001b[1m\u001b[38;5;232m\u001b[48;5;43m N E X T F L O W \u001b[0;2m  ~  \u001b[mversion 25.04.7\u001b[m\n",
      "\u001b[K\n",
      "Launching\u001b[35m `https://github.com/nf-core/rnaseq` \u001b[0;2m[\u001b[0;1;36mmad_bell\u001b[0;2m] DSL2 - \u001b[36mrevision: \u001b[0;36m9738a2df42 [master]\u001b[m\n",
      "\u001b[K\n",
      "\n",
      "------------------------------------------------------\n",
      "                                        ,--./,-.\n",
      "        ___     __   __   __   ___     /,-._.--~'\n",
      "  |\\ | |__  __ /  ` /  \\ |__) |__         }  {\n",
      "  | \\| |       \\__, \\__/ |  \\ |___     \\`-._,-`-,\n",
      "                                        `._,._,'\n",
      "  nf-core/rnaseq 3.21.0\n",
      "------------------------------------------------------\n",
      "\u001b[1mInput/output options\u001b[0m\n",
      "  \u001b[0;34minput              : \u001b[0;32mfetchngs-out/samplesheet/samplesheet.csv\u001b[0m\n",
      "  \u001b[0;34moutdir             : \u001b[0;32mresults_part2\u001b[0m\n",
      "\n",
      "\u001b[1mReference genome options\u001b[0m\n",
      "  \u001b[0;34mgenome             : \u001b[0;32mGRCm38\u001b[0m\n",
      "  \u001b[0;34mfasta              : \u001b[0;32ms3://ngi-igenomes/igenomes//Mus_musculus/Ensembl/GRCm38/Sequence/WholeGenomeFasta/genome.fa\u001b[0m\n",
      "  \u001b[0;34mgtf                : \u001b[0;32ms3://ngi-igenomes/igenomes//Mus_musculus/Ensembl/GRCm38/Annotation/Genes/genes.gtf\u001b[0m\n",
      "  \u001b[0;34mgene_bed           : \u001b[0;32ms3://ngi-igenomes/igenomes//Mus_musculus/Ensembl/GRCm38/Annotation/Genes/genes.bed\u001b[0m\n",
      "  \u001b[0;34mstar_index         : \u001b[0;32ms3://ngi-igenomes/igenomes//Mus_musculus/Ensembl/GRCm38/Sequence/STARIndex/\u001b[0m\n",
      "\n",
      "\u001b[1mUMI options\u001b[0m\n",
      "  \u001b[0;34mumi_discard_read   : \u001b[0;32m0\u001b[0m\n",
      "\n",
      "\u001b[1mGeneric options\u001b[0m\n",
      "  \u001b[0;34mtrace_report_suffix: \u001b[0;32m2025-09-30_15-23-39\u001b[0m\n",
      "\n",
      "\u001b[1mCore Nextflow options\u001b[0m\n",
      "  \u001b[0;34mrevision           : \u001b[0;32mmaster\u001b[0m\n",
      "  \u001b[0;34mrunName            : \u001b[0;32mmad_bell\u001b[0m\n",
      "  \u001b[0;34mcontainerEngine    : \u001b[0;32mdocker\u001b[0m\n",
      "  \u001b[0;34mlaunchDir          : \u001b[0;32m/Users/Nikita/Desktop/Studium/Master/Comp Workflows/computational-workflows-2025/notebooks/day_02\u001b[0m\n",
      "  \u001b[0;34mworkDir            : \u001b[0;32m/Users/Nikita/Desktop/Studium/Master/Comp Workflows/computational-workflows-2025/notebooks/day_02/work\u001b[0m\n",
      "  \u001b[0;34mprojectDir         : \u001b[0;32m/Users/Nikita/.nextflow/assets/nf-core/rnaseq\u001b[0m\n",
      "  \u001b[0;34muserName           : \u001b[0;32mNikita\u001b[0m\n",
      "  \u001b[0;34mprofile            : \u001b[0;32mdocker\u001b[0m\n",
      "  \u001b[0;34mconfigFiles        : \u001b[0;32m/Users/Nikita/.nextflow/assets/nf-core/rnaseq/nextflow.config, /Users/Nikita/Desktop/Studium/Master/Comp Workflows/computational-workflows-2025/notebooks/day_02/nextflow.config, /Users/Nikita/Desktop/Studium/Master/Comp Workflows/computational-workflows-2025/notebooks/day_02/nextflow.config\u001b[0m\n",
      "\n",
      "!! Only displaying parameters that differ from the pipeline defaults !!\n",
      "-\u001b[2m----------------------------------------------------\u001b[0m-\n",
      "* The pipeline\n",
      "    https://doi.org/10.5281/zenodo.1400710\n",
      "\n",
      "* The nf-core framework\n",
      "    https://doi.org/10.1038/s41587-020-0439-x\n",
      "\n",
      "* Software dependencies\n",
      "    https://github.com/nf-core/rnaseq/blob/master/CITATIONS.md\n",
      "\n",
      "\u001b[33mWARN: The following invalid input values have been detected:\n",
      "\n",
      "* --custom_config_base: https://raw.githubusercontent.com/nf-core/configs/master\n",
      "* --umi_discard_read: \n",
      "* --kallisto_quant_fraglen_sd: 200\n",
      "* --featurecounts_feature_type: exon\n",
      "* --gene_bed: s3://ngi-igenomes/igenomes//Mus_musculus/Ensembl/GRCm38/Annotation/Genes/genes.bed\n",
      "* --ribo_database_manifest: /Users/Nikita/.nextflow/assets/nf-core/rnaseq/workflows/rnaseq/assets/rrna-db-defaults.txt\n",
      "* --extra_fqlint_args: --disable-validator P001\n",
      "* --aligner: star_salmon\n",
      "* --custom_config_version: master\n",
      "* --fasta: s3://ngi-igenomes/igenomes//Mus_musculus/Ensembl/GRCm38/Sequence/WholeGenomeFasta/genome.fa\n",
      "* --featurecounts_group_type: gene_biotype\n",
      "* --hisat2_build_memory: 200.GB\n",
      "* --skip_preseq: true\n",
      "* --star_index: s3://ngi-igenomes/igenomes//Mus_musculus/Ensembl/GRCm38/Sequence/STARIndex/\n",
      "* --umi_dedup_tool: umitools\n",
      "* --gtf: s3://ngi-igenomes/igenomes//Mus_musculus/Ensembl/GRCm38/Annotation/Genes/genes.gtf\n",
      "* --gtf_extra_attributes: gene_name\n",
      "* --max_multiqc_email_size: 25.MB\n",
      "* --bracken_precision: S\n",
      "* --min_trimmed_reads: 10000\n",
      "* --pseudo_aligner_kmer_size: 31\n",
      "* --deseq2_vst: true\n",
      "* --umitools_extract_method: string\n",
      "* --validate_params: true\n",
      "* --min_mapped_reads: 5\n",
      "* --rseqc_modules: bam_stat,inner_distance,infer_experiment,junction_annotation,junction_saturation,read_distribution,read_duplication\n",
      "* --gtf_group_features: gene_id\n",
      "* --kallisto_quant_fraglen: 200\n",
      "* --trimmer: trimgalore\n",
      "* --outdir: results_part2\n",
      "* --skip_bbsplit: true\n",
      "* --publish_dir_mode: copy\n",
      "* --pipelines_testdata_base_path: https://raw.githubusercontent.com/nf-core/test-datasets/7f1614baeb0ddf66e60be78c3d9fa55440465ac8/\n",
      "* --input: fetchngs-out/samplesheet/samplesheet.csv\n",
      "* --genome: GRCm38\n",
      "* --stranded_threshold: 0.8\n",
      "* --igenomes_base: s3://ngi-igenomes/igenomes/\n",
      "* --trace_report_suffix: 2025-09-30_15-23-39\n",
      "* --unstranded_threshold: 0.1\n",
      "* --umitools_grouping_method: directional\n",
      "\n",
      "\u001b[39m\u001b[K\n",
      "\u001b[31mERROR ~ Validation of pipeline parameters failed!\n",
      "\n",
      " -- Check '.nextflow.log' file for details\u001b[39m\u001b[K\n",
      "\u001b[0;31mThe following invalid input values have been detected:\n",
      "\n",
      "* --input (fetchngs-out/samplesheet/samplesheet.csv): Validation of file failed:\n",
      "\t-> Entry 1: Error for field 'fastq_2' (fetchngs-out/fastq/SRX19144486_SRR23195516_2.fastq.gz): the file or directory 'fetchngs-out/fastq/SRX19144486_SRR23195516_2.fastq.gz' does not exist (FastQ file for reads 2 cannot contain spaces and must have extension '.fq.gz' or '.fastq.gz')\n",
      "\t-> Entry 1: Error for field 'fastq_1' (fetchngs-out/fastq/SRX19144486_SRR23195516_1.fastq.gz): the file or directory 'fetchngs-out/fastq/SRX19144486_SRR23195516_1.fastq.gz' does not exist (FastQ file for reads 1 must be provided, cannot contain spaces and must have extension '.fq.gz' or '.fastq.gz')\n",
      "\t-> Entry 2: Error for field 'fastq_2' (fetchngs-out/fastq/SRX19144488_SRR23195511_2.fastq.gz): the file or directory 'fetchngs-out/fastq/SRX19144488_SRR23195511_2.fastq.gz' does not exist (FastQ file for reads 2 cannot contain spaces and must have extension '.fq.gz' or '.fastq.gz')\n",
      "\t-> Entry 2: Error for field 'fastq_1' (fetchngs-out/fastq/SRX19144488_SRR23195511_1.fastq.gz): the file or directory 'fetchngs-out/fastq/SRX19144488_SRR23195511_1.fastq.gz' does not exist (FastQ file for reads 1 must be provided, cannot contain spaces and must have extension '.fq.gz' or '.fastq.gz')\n",
      "\u001b[0m\n",
      " -- Check script '/Users/Nikita/.nextflow/assets/nf-core/rnaseq/subworkflows/nf-core/utils_nfschema_plugin/main.nf' at line: 39 or see '.nextflow.log' file for more details\n"
     ]
    }
   ],
   "source": [
    "!nextflow run nf-core/rnaseq --input fetchngs-out/samplesheet/samplesheet.csv -profile docker --genome GRCm38 --outdir results_part2 -c nextflow.config"
   ]
  },
  {
   "cell_type": "markdown",
   "metadata": {},
   "source": [
    "--genome GRCm38"
   ]
  },
  {
   "cell_type": "markdown",
   "metadata": {},
   "source": [
    "## Browsing the results"
   ]
  },
  {
   "cell_type": "markdown",
   "metadata": {},
   "source": [
    "How did the pipeline perform?"
   ]
  },
  {
   "cell_type": "markdown",
   "metadata": {},
   "source": []
  },
  {
   "cell_type": "markdown",
   "metadata": {},
   "source": [
    "Explain the quality control steps. Are you happy with the quality and why. If not, why not.\n",
    "Please give additional information on : \n",
    "- ribosomal rRNA\n",
    "- Duplication\n",
    "- GC content\n",
    "\n",
    "What are the possible steps that could lead to poorer results?"
   ]
  },
  {
   "cell_type": "markdown",
   "metadata": {},
   "source": []
  },
  {
   "cell_type": "markdown",
   "metadata": {},
   "source": [
    "Would you exclude any samples? If yes, which and why?"
   ]
  },
  {
   "cell_type": "code",
   "execution_count": null,
   "metadata": {},
   "outputs": [],
   "source": []
  },
  {
   "cell_type": "markdown",
   "metadata": {},
   "source": [
    "What would you now do to continue the experiment? What are the scientists trying to figure out? Which packages on R or python would you use?"
   ]
  },
  {
   "cell_type": "markdown",
   "metadata": {},
   "source": []
  },
  {
   "cell_type": "markdown",
   "metadata": {},
   "source": []
  }
 ],
 "metadata": {
  "kernelspec": {
   "display_name": "comp_workflows",
   "language": "python",
   "name": "python3"
  },
  "language_info": {
   "codemirror_mode": {
    "name": "ipython",
    "version": 3
   },
   "file_extension": ".py",
   "mimetype": "text/x-python",
   "name": "python",
   "nbconvert_exporter": "python",
   "pygments_lexer": "ipython3",
   "version": "3.13.0"
  }
 },
 "nbformat": 4,
 "nbformat_minor": 2
}
